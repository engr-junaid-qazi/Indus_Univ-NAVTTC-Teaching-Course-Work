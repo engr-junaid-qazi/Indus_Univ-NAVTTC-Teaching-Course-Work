{
 "cells": [
  {
   "cell_type": "markdown",
   "metadata": {},
   "source": [
    "### What is a dictionary in Python?\n",
    "\n",
    "* A dictionary in Python is a special type of data structure that is used to store the data in the key-value pair format. \n",
    "* A Python dictionary has two main components: key & value where the key must be a single entity but value can be a multi-value entity like list, tuple, etc.\n",
    "* The key and its value are separated by a colon (:) and each item (a key-value pair) is separated by a comma (,) just like the Python list. \n",
    "* A dictionary is enclosed in the curly brackets {}. \n",
    "* Like the Python list, the Python dictionary is also mutable.\n",
    "* A Python dictionary stores the elements in an unordered manner and we can access any value in the dictionary directly by its key. \n",
    "* This is how we can create a dictionary in Python and just like the list we can also validate if it’s a dictionary or not using the type() function:"
   ]
  },
  {
   "cell_type": "code",
   "execution_count": 3,
   "metadata": {},
   "outputs": [
    {
     "name": "stdout",
     "output_type": "stream",
     "text": [
      "<class 'list'>\n"
     ]
    }
   ],
   "source": [
    "names = ['junaid', 'kashif', 'asim', 'osaja']\n",
    "print(type(names))"
   ]
  },
  {
   "cell_type": "code",
   "execution_count": 4,
   "metadata": {},
   "outputs": [
    {
     "name": "stdout",
     "output_type": "stream",
     "text": [
      "<class 'set'>\n"
     ]
    }
   ],
   "source": [
    "names = {'junaid', 'kashif', 'asim', 'osaja'}\n",
    "print(type(names))"
   ]
  },
  {
   "cell_type": "code",
   "execution_count": 5,
   "metadata": {},
   "outputs": [
    {
     "name": "stdout",
     "output_type": "stream",
     "text": [
      "<class 'tuple'>\n"
     ]
    }
   ],
   "source": [
    "names = ('junaid', 'kashif', 'asim', 'osaja')\n",
    "print(type(names))"
   ]
  },
  {
   "cell_type": "code",
   "execution_count": 8,
   "metadata": {},
   "outputs": [
    {
     "ename": "NameError",
     "evalue": "name 'nameset' is not defined",
     "output_type": "error",
     "traceback": [
      "\u001b[1;31m---------------------------------------------------------------------------\u001b[0m",
      "\u001b[1;31mNameError\u001b[0m                                 Traceback (most recent call last)",
      "\u001b[1;32m<ipython-input-8-f8b299c55a8c>\u001b[0m in \u001b[0;36m<module>\u001b[1;34m\u001b[0m\n\u001b[0;32m      1\u001b[0m \u001b[0mnames\u001b[0m \u001b[1;33m=\u001b[0m \u001b[1;33m(\u001b[0m\u001b[1;34m'junaid'\u001b[0m\u001b[1;33m,\u001b[0m \u001b[1;34m'kashif'\u001b[0m\u001b[1;33m,\u001b[0m \u001b[1;34m'asim'\u001b[0m\u001b[1;33m,\u001b[0m \u001b[1;34m'osaja'\u001b[0m\u001b[1;33m)\u001b[0m\u001b[1;33m\u001b[0m\u001b[1;33m\u001b[0m\u001b[0m\n\u001b[1;32m----> 2\u001b[1;33m \u001b[0mnameset\u001b[0m\u001b[1;33m.\u001b[0m\u001b[0mset\u001b[0m\u001b[1;33m(\u001b[0m\u001b[0mnames\u001b[0m\u001b[1;33m)\u001b[0m\u001b[1;33m\u001b[0m\u001b[1;33m\u001b[0m\u001b[0m\n\u001b[0m",
      "\u001b[1;31mNameError\u001b[0m: name 'nameset' is not defined"
     ]
    }
   ],
   "source": [
    "names = ('junaid', 'kashif', 'asim', 'osaja')\n",
    "nameset.set(names)"
   ]
  },
  {
   "cell_type": "code",
   "execution_count": 11,
   "metadata": {},
   "outputs": [
    {
     "name": "stdout",
     "output_type": "stream",
     "text": [
      "<class 'list'>\n",
      "<class 'set'>\n"
     ]
    }
   ],
   "source": [
    "names = ['junaid', 'kashif', 'asim', 'osaja']\n",
    "\n",
    "set(names) \n",
    "print(type(names))\n",
    "print(type(set(names)))"
   ]
  },
  {
   "cell_type": "code",
   "execution_count": 39,
   "metadata": {},
   "outputs": [
    {
     "name": "stdout",
     "output_type": "stream",
     "text": [
      "<class 'dict'>\n",
      "dict_keys(['name', 'fname', 'course', 'timing'])\n",
      "dict_values(['qasim', 'aslam', 'AI', '9 pm to 12 am'])\n"
     ]
    }
   ],
   "source": [
    "data = ['qasim','aslam','AI', '9 pm to 12 am']   \n",
    "\n",
    "\n",
    "data = {\n",
    "    #key  : value  \n",
    "    \n",
    "    \"name\":'qasim', # value can be int, string, tuple, list, dict...\n",
    "    'fname':'aslam',\n",
    "    'course':'AI',\n",
    "    'timing':'9 pm to 12 am'\n",
    "}\n",
    "\n",
    "data\n",
    "print(type(data))\n",
    "print(data.keys(2))\n",
    "print(data.values())"
   ]
  },
  {
   "cell_type": "code",
   "execution_count": 43,
   "metadata": {},
   "outputs": [
    {
     "name": "stdout",
     "output_type": "stream",
     "text": [
      "<class 'dict'>\n",
      "dict_keys(['name', 'fname', 'course', 'timing'])\n",
      "dict_values(['qasim', 'aslam', 'AI', '9 pm to 12 am'])\n",
      "dict_items([('name', 'qasim'), ('fname', 'aslam'), ('course', 'AI'), ('timing', '9 pm to 12 am')])\n"
     ]
    }
   ],
   "source": [
    "data = ['qasim','aslam','AI', '9 pm to 12 am']   \n",
    "\n",
    "\n",
    "data = {\n",
    "    #key  : value  \n",
    "    \n",
    "    \"name\":'qasim', # value can be int, string, tuple, list, dict...\n",
    "    'fname':'aslam',\n",
    "    'course':'AI',\n",
    "    'timing':'9 pm to 12 am'\n",
    "}\n",
    "\n",
    "data\n",
    "print(type(data))\n",
    "print(data.keys())\n",
    "print(data.values())\n",
    "print(data.items())"
   ]
  },
  {
   "cell_type": "code",
   "execution_count": 17,
   "metadata": {},
   "outputs": [
    {
     "data": {
      "text/plain": [
       "'9 pm to 12 am'"
      ]
     },
     "execution_count": 17,
     "metadata": {},
     "output_type": "execute_result"
    }
   ],
   "source": [
    "data['timing']"
   ]
  },
  {
   "cell_type": "code",
   "execution_count": 18,
   "metadata": {},
   "outputs": [
    {
     "name": "stdout",
     "output_type": "stream",
     "text": [
      "{1, 3, 4, 7, 9}\n",
      "{3, 4, 7, 9}\n",
      "{3, 7, 9}\n",
      "{3, 7, 9, 10, 20}\n"
     ]
    }
   ],
   "source": [
    "new_students = {1,3,4,7,9,3,3}\n",
    "print(new_students)\n",
    "new_students.pop() # remove from last position for list we can also provide index number for removing perticular index value\n",
    "print(new_students)\n",
    "new_students.remove(4) # search and then remove it\n",
    "print(new_students)\n",
    "new_students.update({10,3,20})\n",
    "print(new_students)"
   ]
  },
  {
   "cell_type": "code",
   "execution_count": 19,
   "metadata": {},
   "outputs": [
    {
     "name": "stdout",
     "output_type": "stream",
     "text": [
      "{1, 3, 4, 7, 9}\n"
     ]
    },
    {
     "data": {
      "text/plain": [
       "1"
      ]
     },
     "execution_count": 19,
     "metadata": {},
     "output_type": "execute_result"
    }
   ],
   "source": [
    "new_students = {1,3,4,7,9,3,3}\n",
    "print(new_students)\n",
    "new_students.pop()"
   ]
  },
  {
   "cell_type": "code",
   "execution_count": 20,
   "metadata": {},
   "outputs": [
    {
     "data": {
      "text/plain": [
       "3"
      ]
     },
     "execution_count": 20,
     "metadata": {},
     "output_type": "execute_result"
    }
   ],
   "source": [
    "new_students.pop()"
   ]
  },
  {
   "cell_type": "code",
   "execution_count": 21,
   "metadata": {},
   "outputs": [
    {
     "data": {
      "text/plain": [
       "4"
      ]
     },
     "execution_count": 21,
     "metadata": {},
     "output_type": "execute_result"
    }
   ],
   "source": [
    "new_students.pop()"
   ]
  },
  {
   "cell_type": "code",
   "execution_count": 32,
   "metadata": {},
   "outputs": [],
   "source": [
    "new_students.update((1, 2, 3))"
   ]
  },
  {
   "cell_type": "code",
   "execution_count": 33,
   "metadata": {},
   "outputs": [
    {
     "name": "stdout",
     "output_type": "stream",
     "text": [
      "{1, 2, 3, 7, 9, 10, 20, 30}\n"
     ]
    }
   ],
   "source": [
    "print(new_students)"
   ]
  },
  {
   "cell_type": "code",
   "execution_count": 34,
   "metadata": {},
   "outputs": [],
   "source": [
    "names = ('osaja', 'tabish', 'shahmeer', 'mubeen')"
   ]
  },
  {
   "cell_type": "code",
   "execution_count": 37,
   "metadata": {},
   "outputs": [
    {
     "ename": "AttributeError",
     "evalue": "'tuple' object has no attribute 'remove'",
     "output_type": "error",
     "traceback": [
      "\u001b[1;31m---------------------------------------------------------------------------\u001b[0m",
      "\u001b[1;31mAttributeError\u001b[0m                            Traceback (most recent call last)",
      "\u001b[1;32m<ipython-input-37-a9a5da10a749>\u001b[0m in \u001b[0;36m<module>\u001b[1;34m\u001b[0m\n\u001b[1;32m----> 1\u001b[1;33m \u001b[0mnames\u001b[0m\u001b[1;33m.\u001b[0m\u001b[0mremove\u001b[0m\u001b[1;33m(\u001b[0m\u001b[1;36m1\u001b[0m\u001b[1;33m)\u001b[0m\u001b[1;33m\u001b[0m\u001b[1;33m\u001b[0m\u001b[0m\n\u001b[0m",
      "\u001b[1;31mAttributeError\u001b[0m: 'tuple' object has no attribute 'remove'"
     ]
    }
   ],
   "source": [
    "names.remove(1)"
   ]
  },
  {
   "cell_type": "code",
   "execution_count": 44,
   "metadata": {},
   "outputs": [
    {
     "data": {
      "text/plain": [
       "{'id': None,\n",
       " 'name': None,\n",
       " 'fname': None,\n",
       " 'course': None,\n",
       " 'timing': None,\n",
       " 'address': None}"
      ]
     },
     "execution_count": 44,
     "metadata": {},
     "output_type": "execute_result"
    }
   ],
   "source": [
    "dict.fromkeys(['id','name','fname','course','timing','address']) # create dict with list"
   ]
  },
  {
   "cell_type": "code",
   "execution_count": 45,
   "metadata": {},
   "outputs": [
    {
     "data": {
      "text/plain": [
       "{'id': 1, 'name': 'qasim', 'timing': '9 pm to 12 am'}"
      ]
     },
     "execution_count": 45,
     "metadata": {},
     "output_type": "execute_result"
    }
   ],
   "source": [
    "data = {}\n",
    "data['id'] = 1\n",
    "data['name'] = 'qasim'\n",
    "data['timing'] = '9 pm to 12 am'\n",
    "data"
   ]
  },
  {
   "cell_type": "code",
   "execution_count": null,
   "metadata": {},
   "outputs": [],
   "source": []
  }
 ],
 "metadata": {
  "kernelspec": {
   "display_name": "Python 3 (ipykernel)",
   "language": "python",
   "name": "python3"
  },
  "language_info": {
   "codemirror_mode": {
    "name": "ipython",
    "version": 3
   },
   "file_extension": ".py",
   "mimetype": "text/x-python",
   "name": "python",
   "nbconvert_exporter": "python",
   "pygments_lexer": "ipython3",
   "version": "3.9.12"
  }
 },
 "nbformat": 4,
 "nbformat_minor": 4
}
