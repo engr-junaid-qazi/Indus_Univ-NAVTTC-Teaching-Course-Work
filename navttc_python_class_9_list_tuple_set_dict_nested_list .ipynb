{
 "cells": [
  {
   "cell_type": "markdown",
   "id": "e869c194",
   "metadata": {},
   "source": [
    "# class5:\n",
    "    * neted List\n",
    "    * tuple\n",
    "    * set\n",
    "    * dictionary\n",
    "    "
   ]
  },
  {
   "cell_type": "code",
   "execution_count": 4,
   "id": "90280c8b",
   "metadata": {},
   "outputs": [
    {
     "name": "stdout",
     "output_type": "stream",
     "text": [
      "asif\n",
      "DS\n"
     ]
    }
   ],
   "source": [
    "data = [['1','qasim','msds'],\n",
    "        ['2','asif','ai'],\n",
    "       ['3','kashif','DS']]\n",
    "\n",
    "print(data[1][1])\n",
    "print(data[2][-1])"
   ]
  },
  {
   "cell_type": "code",
   "execution_count": 5,
   "id": "bccc25ac",
   "metadata": {},
   "outputs": [
    {
     "data": {
      "text/plain": [
       "[['1', 'qasim', 'msds'],\n",
       " ['2', 'asif', 'ai'],\n",
       " ['3', 'kashif', 'Artificial Intelligent']]"
      ]
     },
     "execution_count": 5,
     "metadata": {},
     "output_type": "execute_result"
    }
   ],
   "source": [
    "data[2][-1] = \"Artificial Intelligent\"\n",
    "data"
   ]
  },
  {
   "cell_type": "markdown",
   "id": "5f5eca8c",
   "metadata": {},
   "source": [
    "# tuple"
   ]
  },
  {
   "cell_type": "code",
   "execution_count": 9,
   "id": "fa5d0c55",
   "metadata": {},
   "outputs": [
    {
     "name": "stdout",
     "output_type": "stream",
     "text": [
      "Asif\n",
      "('Qasim', 'Zonaib')\n"
     ]
    },
    {
     "data": {
      "text/plain": [
       "('Qasim', 'Zonaib', 'Asif')"
      ]
     },
     "execution_count": 9,
     "metadata": {},
     "output_type": "execute_result"
    }
   ],
   "source": [
    "names = (\"Qasim\",\"Zonaib\",\"Asif\")\n",
    "print(names[-1])\n",
    "print(names[:2])\n",
    "names"
   ]
  },
  {
   "cell_type": "code",
   "execution_count": 10,
   "id": "19273ca3",
   "metadata": {},
   "outputs": [
    {
     "ename": "TypeError",
     "evalue": "'tuple' object does not support item assignment",
     "output_type": "error",
     "traceback": [
      "\u001b[1;31m---------------------------------------------------------------------------\u001b[0m",
      "\u001b[1;31mTypeError\u001b[0m                                 Traceback (most recent call last)",
      "\u001b[1;32mC:\\Users\\STUDEN~1\\AppData\\Local\\Temp/ipykernel_13360/2842128383.py\u001b[0m in \u001b[0;36m<module>\u001b[1;34m\u001b[0m\n\u001b[1;32m----> 1\u001b[1;33m \u001b[0mnames\u001b[0m\u001b[1;33m[\u001b[0m\u001b[1;33m-\u001b[0m\u001b[1;36m1\u001b[0m\u001b[1;33m]\u001b[0m \u001b[1;33m=\u001b[0m \u001b[1;34m\"Hamza\"\u001b[0m\u001b[1;33m\u001b[0m\u001b[1;33m\u001b[0m\u001b[0m\n\u001b[0m",
      "\u001b[1;31mTypeError\u001b[0m: 'tuple' object does not support item assignment"
     ]
    }
   ],
   "source": [
    "names[-1] = \"Hamza\""
   ]
  },
  {
   "cell_type": "code",
   "execution_count": 11,
   "id": "a611e9ea",
   "metadata": {},
   "outputs": [
    {
     "data": {
      "text/plain": [
       "('Qasim', 'Zonaib', 'Hamza')"
      ]
     },
     "execution_count": 11,
     "metadata": {},
     "output_type": "execute_result"
    }
   ],
   "source": [
    "names = (\"Qasim\",\"Zonaib\",\"Hamza\")\n",
    "names"
   ]
  },
  {
   "cell_type": "markdown",
   "id": "a047bd94",
   "metadata": {},
   "source": [
    "# set"
   ]
  },
  {
   "cell_type": "code",
   "execution_count": 15,
   "id": "832d79da",
   "metadata": {},
   "outputs": [
    {
     "name": "stdout",
     "output_type": "stream",
     "text": [
      "{'hamza', 'asif', 'qasim'}\n"
     ]
    },
    {
     "data": {
      "text/plain": [
       "{'asif', 'hamza', 'qasim'}"
      ]
     },
     "execution_count": 15,
     "metadata": {},
     "output_type": "execute_result"
    }
   ],
   "source": [
    "names = {\"qasim\",'hamza','asif','qasim','hamza'}\n",
    "print(names)\n",
    "names"
   ]
  },
  {
   "cell_type": "code",
   "execution_count": 13,
   "id": "8ad06d60",
   "metadata": {},
   "outputs": [
    {
     "data": {
      "text/plain": [
       "{'a', 'b'}"
      ]
     },
     "execution_count": 13,
     "metadata": {},
     "output_type": "execute_result"
    }
   ],
   "source": [
    "set(['a','b','a','a'])"
   ]
  },
  {
   "cell_type": "markdown",
   "id": "c1c0bf43",
   "metadata": {},
   "source": [
    "# Dictionary"
   ]
  },
  {
   "cell_type": "code",
   "execution_count": 16,
   "id": "da94b013",
   "metadata": {},
   "outputs": [
    {
     "data": {
      "text/plain": [
       "{'name': 'qasim', 'fname': 'aslam', 'course': 'AI', 'timing': '9 pm to 12 am'}"
      ]
     },
     "execution_count": 16,
     "metadata": {},
     "output_type": "execute_result"
    }
   ],
   "source": [
    "#         0        1      2         3            #index\n",
    "data = ['qasim','aslam','AI', '9 pm to 12 am']   #values, elements\n",
    "#key always int or string, hasable\n",
    "data = {\n",
    "    #key  : value  \n",
    "    \"name\":'qasim', # value can be int, string, tuple, list, dict...\n",
    "    'fname':'aslam',\n",
    "    'course':'AI',\n",
    "    'timing':'9 pm to 12 am'\n",
    "}\n",
    "\n",
    "data"
   ]
  },
  {
   "cell_type": "code",
   "execution_count": 17,
   "id": "5f3d2a75",
   "metadata": {},
   "outputs": [
    {
     "data": {
      "text/plain": [
       "'qasim'"
      ]
     },
     "execution_count": 17,
     "metadata": {},
     "output_type": "execute_result"
    }
   ],
   "source": [
    "data['name']"
   ]
  },
  {
   "cell_type": "code",
   "execution_count": 18,
   "id": "445d0a99",
   "metadata": {},
   "outputs": [
    {
     "data": {
      "text/plain": [
       "'AI'"
      ]
     },
     "execution_count": 18,
     "metadata": {},
     "output_type": "execute_result"
    }
   ],
   "source": [
    "data['course']"
   ]
  },
  {
   "cell_type": "code",
   "execution_count": 19,
   "id": "9716ecff",
   "metadata": {},
   "outputs": [
    {
     "data": {
      "text/plain": [
       "['b', 'a']"
      ]
     },
     "execution_count": 19,
     "metadata": {},
     "output_type": "execute_result"
    }
   ],
   "source": [
    "names = list(set(['a','a','a','b']))\n",
    "names"
   ]
  },
  {
   "cell_type": "code",
   "execution_count": 20,
   "id": "1033abc2",
   "metadata": {},
   "outputs": [
    {
     "data": {
      "text/plain": [
       "dict"
      ]
     },
     "execution_count": 20,
     "metadata": {},
     "output_type": "execute_result"
    }
   ],
   "source": [
    "print(data.__class__) #attribute"
   ]
  },
  {
   "cell_type": "markdown",
   "id": "8765565a",
   "metadata": {},
   "source": [
    "# tuple method "
   ]
  },
  {
   "cell_type": "code",
   "execution_count": 25,
   "id": "1491cc45",
   "metadata": {},
   "outputs": [
    {
     "name": "stdout",
     "output_type": "stream",
     "text": [
      "('a', 'b', 'c', 'a')\n",
      "2\n",
      "1\n"
     ]
    }
   ],
   "source": [
    "names = ('a','b','c','a')\n",
    "print(names)\n",
    "print(names.count('a'))\n",
    "print(names.index('b'))\n"
   ]
  },
  {
   "cell_type": "code",
   "execution_count": 26,
   "id": "dd195e55",
   "metadata": {},
   "outputs": [
    {
     "data": {
      "text/plain": [
       "['__add__',\n",
       " '__class__',\n",
       " '__class_getitem__',\n",
       " '__contains__',\n",
       " '__delattr__',\n",
       " '__dir__',\n",
       " '__doc__',\n",
       " '__eq__',\n",
       " '__format__',\n",
       " '__ge__',\n",
       " '__getattribute__',\n",
       " '__getitem__',\n",
       " '__getnewargs__',\n",
       " '__gt__',\n",
       " '__hash__',\n",
       " '__init__',\n",
       " '__init_subclass__',\n",
       " '__iter__',\n",
       " '__le__',\n",
       " '__len__',\n",
       " '__lt__',\n",
       " '__mul__',\n",
       " '__ne__',\n",
       " '__new__',\n",
       " '__reduce__',\n",
       " '__reduce_ex__',\n",
       " '__repr__',\n",
       " '__rmul__',\n",
       " '__setattr__',\n",
       " '__sizeof__',\n",
       " '__str__',\n",
       " '__subclasshook__',\n",
       " 'count',\n",
       " 'index']"
      ]
     },
     "execution_count": 26,
     "metadata": {},
     "output_type": "execute_result"
    }
   ],
   "source": [
    "dir(names)"
   ]
  },
  {
   "cell_type": "code",
   "execution_count": 43,
   "id": "dd2abefb",
   "metadata": {},
   "outputs": [
    {
     "name": "stdout",
     "output_type": "stream",
     "text": [
      "{9, 4, 7}\n",
      "{3}\n",
      "False\n",
      "False\n",
      "False\n"
     ]
    }
   ],
   "source": [
    "old_students = {1,2,3}\n",
    "new_students = {1,3,4,7,9}\n",
    "print(new_students.difference(old_students))\n",
    "print(new_students.intersection(old_students).intersection({3,8}))\n",
    "# print(new_students.difference_update)\n",
    "print(new_students.isdisjoint(old_students))\n",
    "print(new_students.issubset(old_students))\n",
    "print(new_students.issuperset(old_students))\n",
    "print(new_students.pop())"
   ]
  },
  {
   "cell_type": "code",
   "execution_count": 61,
   "id": "3d62539f",
   "metadata": {},
   "outputs": [
    {
     "name": "stdout",
     "output_type": "stream",
     "text": [
      "['qasim', 'a', 'b', 'c']\n",
      "['qasim', 'a', 'b']\n",
      "['qasim', 'b']\n",
      "['b']\n"
     ]
    }
   ],
   "source": [
    "names = ['qasim','a','b','c']\n",
    "print(names)\n",
    "names.pop()\n",
    "print(names)\n",
    "names.pop(1) # pass index\n",
    "print(names)\n",
    "names.remove(\"qasim\") # search then remove it\n",
    "print(names)"
   ]
  },
  {
   "cell_type": "code",
   "execution_count": 62,
   "id": "90f6b684",
   "metadata": {},
   "outputs": [
    {
     "name": "stdout",
     "output_type": "stream",
     "text": [
      "{1, 3, 4, 7, 9}\n",
      "{3, 4, 7, 9}\n",
      "{3, 7, 9}\n",
      "{3, 20, 7, 9, 10}\n"
     ]
    }
   ],
   "source": [
    "new_students = {1,3,4,7,9,3,3}\n",
    "print(new_students)\n",
    "new_students.pop() # remove from last position for list we can also provide index number for removing perticular index value\n",
    "print(new_students)\n",
    "new_students.remove(4) # search and then remove it\n",
    "print(new_students)\n",
    "new_students.update({10,3,20})\n",
    "print(new_students)"
   ]
  },
  {
   "cell_type": "markdown",
   "id": "90663734",
   "metadata": {},
   "source": [
    "# dictionary"
   ]
  },
  {
   "cell_type": "code",
   "execution_count": 73,
   "id": "4d5e8754",
   "metadata": {},
   "outputs": [
    {
     "name": "stdout",
     "output_type": "stream",
     "text": [
      "{'name': 'qasim', 'fname': 'aslam', 'course': 'AI', 'timing': '9 pm to 12 am'}\n",
      "9 pm to 12 am\n",
      "dict_keys(['name', 'fname', 'course', 'timing'])\n"
     ]
    }
   ],
   "source": [
    "data = {\n",
    "    #key  : value  \n",
    "    \"name\":'qasim', # value can be int, string, tuple, list, dict...\n",
    "    'fname':'aslam',\n",
    "    'course':'AI',\n",
    "    'timing':'9 pm to 12 am'\n",
    "}\n",
    "\n",
    "print(data)\n",
    "print(data['timing'])\n",
    "print(data.keys())\n"
   ]
  },
  {
   "cell_type": "code",
   "execution_count": 70,
   "id": "5bc6236a",
   "metadata": {},
   "outputs": [
    {
     "name": "stdout",
     "output_type": "stream",
     "text": [
      "dict_values(['qasim', 'aslam', 'AI', '9 pm to 12 am'])\n"
     ]
    }
   ],
   "source": [
    "print(data.values())\n"
   ]
  },
  {
   "cell_type": "code",
   "execution_count": 71,
   "id": "23392b13",
   "metadata": {},
   "outputs": [
    {
     "name": "stdout",
     "output_type": "stream",
     "text": [
      "dict_items([('name', 'qasim'), ('fname', 'aslam'), ('course', 'AI'), ('timing', '9 pm to 12 am')])\n"
     ]
    }
   ],
   "source": [
    "print(data.items())"
   ]
  },
  {
   "cell_type": "code",
   "execution_count": 72,
   "id": "5a3d3235",
   "metadata": {},
   "outputs": [
    {
     "name": "stdout",
     "output_type": "stream",
     "text": [
      "{'name': 'Zonaib', 'fname': 'aslam', 'course': 'AI', 'timing': '9 pm to 12 am'}\n",
      "{'name': 'Zonaib', 'fname': 'aslam', 'course': 'AI', 'timing': '9 pm to 12 am'}\n"
     ]
    }
   ],
   "source": [
    "data1 = data\n",
    "data1['name'] = 'Zonaib'\n",
    "print(data)\n",
    "print(data1)"
   ]
  },
  {
   "cell_type": "code",
   "execution_count": 74,
   "id": "fe42184d",
   "metadata": {},
   "outputs": [
    {
     "name": "stdout",
     "output_type": "stream",
     "text": [
      "{'name': 'qasim', 'fname': 'aslam', 'course': 'AI', 'timing': '9 pm to 12 am'}\n",
      "{'name': 'Zonaib', 'fname': 'aslam', 'course': 'AI', 'timing': '9 pm to 12 am'}\n"
     ]
    }
   ],
   "source": [
    "data1 = data.copy()\n",
    "data1['name'] = 'Zonaib'\n",
    "print(data)\n",
    "print(data1)"
   ]
  },
  {
   "cell_type": "code",
   "execution_count": 76,
   "id": "cf924696",
   "metadata": {},
   "outputs": [
    {
     "ename": "KeyError",
     "evalue": "'address'",
     "output_type": "error",
     "traceback": [
      "\u001b[1;31m---------------------------------------------------------------------------\u001b[0m",
      "\u001b[1;31mKeyError\u001b[0m                                  Traceback (most recent call last)",
      "\u001b[1;32mC:\\Users\\STUDEN~1\\AppData\\Local\\Temp/ipykernel_13360/1309666588.py\u001b[0m in \u001b[0;36m<module>\u001b[1;34m\u001b[0m\n\u001b[1;32m----> 1\u001b[1;33m \u001b[0mdata\u001b[0m\u001b[1;33m[\u001b[0m\u001b[1;34m'address'\u001b[0m\u001b[1;33m]\u001b[0m\u001b[1;33m\u001b[0m\u001b[1;33m\u001b[0m\u001b[0m\n\u001b[0m",
      "\u001b[1;31mKeyError\u001b[0m: 'address'"
     ]
    }
   ],
   "source": [
    "data['address']"
   ]
  },
  {
   "cell_type": "code",
   "execution_count": 80,
   "id": "ea0e41e1",
   "metadata": {},
   "outputs": [
    {
     "data": {
      "text/plain": [
       "{'name': 'qasim', 'fname': 'aslam', 'course': 'AI', 'timing': '9 pm to 12 am'}"
      ]
     },
     "execution_count": 80,
     "metadata": {},
     "output_type": "execute_result"
    }
   ],
   "source": [
    "data.get('address') # get value with key\n",
    "data.get('name')\n",
    "data.get('address','na') # get value with key\n",
    "data"
   ]
  },
  {
   "cell_type": "code",
   "execution_count": 75,
   "id": "d92f47e4",
   "metadata": {},
   "outputs": [
    {
     "data": {
      "text/plain": [
       "{'id': None,\n",
       " 'name': None,\n",
       " 'fname': None,\n",
       " 'course': None,\n",
       " 'timing': None,\n",
       " 'address': None}"
      ]
     },
     "execution_count": 75,
     "metadata": {},
     "output_type": "execute_result"
    }
   ],
   "source": [
    "dict.fromkeys(['id','name','fname','course','timing','address']) # create dict with list"
   ]
  },
  {
   "cell_type": "code",
   "execution_count": 81,
   "id": "6b7ff45a",
   "metadata": {},
   "outputs": [
    {
     "data": {
      "text/plain": [
       "{'id': 1, 'name': 'qasim', 'timing': '9 pm to 12 am'}"
      ]
     },
     "execution_count": 81,
     "metadata": {},
     "output_type": "execute_result"
    }
   ],
   "source": [
    "data = {}\n",
    "data['id'] = 1\n",
    "data['name'] = 'qasim'\n",
    "data['timing'] = '9 pm to 12 am'\n",
    "data"
   ]
  },
  {
   "cell_type": "code",
   "execution_count": 82,
   "id": "97614879",
   "metadata": {},
   "outputs": [
    {
     "data": {
      "text/plain": [
       "'AI'"
      ]
     },
     "execution_count": 82,
     "metadata": {},
     "output_type": "execute_result"
    }
   ],
   "source": [
    "data.setdefault('course','AI')"
   ]
  },
  {
   "cell_type": "code",
   "execution_count": 83,
   "id": "840ab2e6",
   "metadata": {},
   "outputs": [
    {
     "data": {
      "text/plain": [
       "{'id': 1, 'name': 'qasim', 'timing': '9 pm to 12 am', 'course': 'AI'}"
      ]
     },
     "execution_count": 83,
     "metadata": {},
     "output_type": "execute_result"
    }
   ],
   "source": [
    "data"
   ]
  },
  {
   "cell_type": "code",
   "execution_count": 84,
   "id": "b4ef4d76",
   "metadata": {},
   "outputs": [
    {
     "data": {
      "text/plain": [
       "1"
      ]
     },
     "execution_count": 84,
     "metadata": {},
     "output_type": "execute_result"
    }
   ],
   "source": [
    "data.setdefault('id')"
   ]
  },
  {
   "cell_type": "code",
   "execution_count": 86,
   "id": "d76d53ae",
   "metadata": {},
   "outputs": [
    {
     "name": "stdout",
     "output_type": "stream",
     "text": [
      "{'id': 1, 'name': 'qasim', 'timing': '9 pm to 12 am', 'course': 'AI'}\n",
      "1\n",
      "{'name': 'qasim', 'timing': '9 pm to 12 am', 'course': 'AI'}\n"
     ]
    }
   ],
   "source": [
    "print(data)\n",
    "print(data.pop('id')) # return only value\n",
    "print(data)"
   ]
  },
  {
   "cell_type": "code",
   "execution_count": 88,
   "id": "4ce4cb81",
   "metadata": {},
   "outputs": [
    {
     "name": "stdout",
     "output_type": "stream",
     "text": [
      "{'name': 'qasim', 'timing': '9 pm to 12 am', 'course': 'AI'}\n",
      "('course', 'AI')\n",
      "{'name': 'qasim', 'timing': '9 pm to 12 am'}\n"
     ]
    }
   ],
   "source": [
    "print(data)\n",
    "print(data.popitem()) # remove key value pair from last position\n",
    "print(data)"
   ]
  },
  {
   "cell_type": "code",
   "execution_count": 89,
   "id": "ef0f1f61",
   "metadata": {},
   "outputs": [
    {
     "data": {
      "text/plain": [
       "{'name': 'Zonaib', 'timing': '9 pm to 12 am', 'id': 20}"
      ]
     },
     "execution_count": 89,
     "metadata": {},
     "output_type": "execute_result"
    }
   ],
   "source": [
    "data.update({'id':20,\"name\":'Zonaib'})\n",
    "data"
   ]
  },
  {
   "cell_type": "code",
   "execution_count": 90,
   "id": "1ace4fea",
   "metadata": {},
   "outputs": [
    {
     "data": {
      "text/plain": [
       "{'id': 26, 'name': 'qasim'}"
      ]
     },
     "execution_count": 90,
     "metadata": {},
     "output_type": "execute_result"
    }
   ],
   "source": [
    "data1 = {'id':20,\n",
    "        'name':'qasim',\n",
    "        'id':26}\n",
    "data1"
   ]
  },
  {
   "cell_type": "code",
   "execution_count": 1,
   "id": "f76b0ada",
   "metadata": {},
   "outputs": [
    {
     "name": "stdout",
     "output_type": "stream",
     "text": [
      "['apple', 'banana', 'cherry', 'kiwi', 'orange']\n",
      "{'city1': 'karachi', 'city2': 'lahore', 'city3': 'jhang'}\n",
      "['karachi', 'lahore', 'faisalabad', 'jhang', 'thatta', 'dadu']\n"
     ]
    }
   ],
   "source": [
    "thislist = [\"apple\", \"banana\", \"cherry\"]\n",
    "thistuple = (\"kiwi\", \"orange\")\n",
    "\n",
    "thislist.extend(thistuple)\n",
    "\n",
    "print(thislist) \n",
    "\n",
    "newlist = ['karachi', 'lahore', 'faisalabad', 'jhang', 'thatta', 'dadu']\n",
    "\n",
    "new_dict = {'city1': 'karachi', 'city2': 'lahore', 'city3': 'jhang'}\n",
    "\n",
    "print(new_dict)\n",
    "print(newlist)"
   ]
  },
  {
   "cell_type": "code",
   "execution_count": null,
   "id": "8379fa8e",
   "metadata": {},
   "outputs": [],
   "source": []
  }
 ],
 "metadata": {
  "kernelspec": {
   "display_name": "Python 3 (ipykernel)",
   "language": "python",
   "name": "python3"
  },
  "language_info": {
   "codemirror_mode": {
    "name": "ipython",
    "version": 3
   },
   "file_extension": ".py",
   "mimetype": "text/x-python",
   "name": "python",
   "nbconvert_exporter": "python",
   "pygments_lexer": "ipython3",
   "version": "3.9.12"
  }
 },
 "nbformat": 4,
 "nbformat_minor": 5
}
