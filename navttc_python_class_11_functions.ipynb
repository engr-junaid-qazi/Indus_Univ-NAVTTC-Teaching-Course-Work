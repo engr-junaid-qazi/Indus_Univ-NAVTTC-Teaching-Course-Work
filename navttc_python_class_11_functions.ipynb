{
 "cells": [
  {
   "cell_type": "markdown",
   "metadata": {},
   "source": [
    "# function structure "
   ]
  },
  {
   "cell_type": "code",
   "execution_count": 1,
   "metadata": {},
   "outputs": [
    {
     "ename": "SyntaxError",
     "evalue": "invalid syntax (<ipython-input-1-d332df30301f>, line 1)",
     "output_type": "error",
     "traceback": [
      "\u001b[1;36m  File \u001b[1;32m\"<ipython-input-1-d332df30301f>\"\u001b[1;36m, line \u001b[1;32m1\u001b[0m\n\u001b[1;33m    def function_name (argument1,argument2,..): # function declaration\u001b[0m\n\u001b[1;37m                                           ^\u001b[0m\n\u001b[1;31mSyntaxError\u001b[0m\u001b[1;31m:\u001b[0m invalid syntax\n"
     ]
    }
   ],
   "source": [
    "def function_name (argument1,argument2,..): # function declaration\n",
    "    \n",
    "    # function body start\n",
    "    \n",
    "    print(argument1, argument2) #statment1\n",
    "    print(\"line1\")              #statment2\n",
    "    print(\"line2\")              #statment3\n",
    "    \n",
    "    # end function body\n",
    "    \n",
    "function_name (1,2 )     # fucntion calling  \n",
    "function_name (\"A\",\"B\")  # fucntion calling"
   ]
  },
  {
   "cell_type": "markdown",
   "metadata": {},
   "source": [
    "# PYTHON FUNCTION TYPES"
   ]
  },
  {
   "cell_type": "markdown",
   "metadata": {},
   "source": [
    "* non-return function with required arguments\n",
    "* return function with required arguments \n",
    "* default function (function which does not require any arguments)\n",
    "* function with both required and default / optional argument values\n",
    "* postional arguments \n",
    "* lambda function\n",
    "    * without function name \n",
    "    * it is used only once in a program \n",
    "    * one line function \n",
    "* recursive function \n",
    "* generator function e.g. enumerate()\n",
    "    * Can't directly called \n",
    "    * remember its last iteration \n",
    "    * run each iteration one by one "
   ]
  },
  {
   "cell_type": "code",
   "execution_count": 4,
   "metadata": {},
   "outputs": [
    {
     "name": "stdout",
     "output_type": "stream",
     "text": [
      "Enter a Number: 2\n",
      "Enter another Number: 3\n",
      "6\n"
     ]
    }
   ],
   "source": [
    "x = int(input(\"Enter a Number: \"))\n",
    "y = int(input(\"Enter another Number: \"))\n",
    "\n",
    "def prod():\n",
    "    print(x*y)\n",
    "    \n",
    "prod()"
   ]
  },
  {
   "cell_type": "markdown",
   "metadata": {},
   "source": [
    "# Return function with required arguments"
   ]
  },
  {
   "cell_type": "code",
   "execution_count": 7,
   "metadata": {},
   "outputs": [
    {
     "name": "stdout",
     "output_type": "stream",
     "text": [
      "Enter a Number: 2\n",
      "Enter another Number: 3\n"
     ]
    },
    {
     "data": {
      "text/plain": [
       "6"
      ]
     },
     "execution_count": 7,
     "metadata": {},
     "output_type": "execute_result"
    }
   ],
   "source": [
    "def prod(x,y):\n",
    "    return x*y\n",
    "    \n",
    "x = int(input(\"Enter a Number: \"))\n",
    "y = int(input(\"Enter another Number: \"))\n",
    "    \n",
    "prod(x,y)"
   ]
  },
  {
   "cell_type": "markdown",
   "metadata": {},
   "source": [
    "# Non-return function with required arguments"
   ]
  },
  {
   "cell_type": "code",
   "execution_count": 8,
   "metadata": {},
   "outputs": [
    {
     "name": "stdout",
     "output_type": "stream",
     "text": [
      "Enter a Number: 2\n",
      "Enter another Number: 3\n",
      "6\n"
     ]
    }
   ],
   "source": [
    "def prod(x,y):\n",
    "    print(x*y)\n",
    "    \n",
    "x = int(input(\"Enter a Number: \"))\n",
    "y = int(input(\"Enter another Number: \"))\n",
    "    \n",
    "prod(x,y)"
   ]
  },
  {
   "cell_type": "markdown",
   "metadata": {},
   "source": [
    "# default function"
   ]
  },
  {
   "cell_type": "code",
   "execution_count": 2,
   "metadata": {},
   "outputs": [
    {
     "name": "stdout",
     "output_type": "stream",
     "text": [
      "Enter a Number: 2\n",
      "Enter another Number: 5\n",
      "10\n"
     ]
    }
   ],
   "source": [
    "def prod_default():\n",
    "    x = int(input(\"Enter a Number: \"))\n",
    "    y = int(input(\"Enter another Number: \"))\n",
    "    print(x*y)\n",
    "    \n",
    "prod_default()"
   ]
  },
  {
   "cell_type": "markdown",
   "metadata": {},
   "source": [
    "# function with required and default / optional argument values"
   ]
  },
  {
   "cell_type": "code",
   "execution_count": 13,
   "metadata": {},
   "outputs": [
    {
     "ename": "TypeError",
     "evalue": "add() missing 1 required positional argument: 'num1'",
     "output_type": "error",
     "traceback": [
      "\u001b[1;31m---------------------------------------------------------------------------\u001b[0m",
      "\u001b[1;31mTypeError\u001b[0m                                 Traceback (most recent call last)",
      "\u001b[1;32m<ipython-input-13-f357a303c40f>\u001b[0m in \u001b[0;36m<module>\u001b[1;34m\u001b[0m\n\u001b[0;32m      1\u001b[0m \u001b[1;32mdef\u001b[0m \u001b[0madd\u001b[0m\u001b[1;33m(\u001b[0m\u001b[0mnum1\u001b[0m\u001b[1;33m,\u001b[0m\u001b[0mnum2\u001b[0m\u001b[1;33m=\u001b[0m\u001b[1;36m1\u001b[0m\u001b[1;33m,\u001b[0m\u001b[0mnum3\u001b[0m\u001b[1;33m=\u001b[0m\u001b[1;36m0\u001b[0m\u001b[1;33m,\u001b[0m \u001b[0mnum4\u001b[0m\u001b[1;33m=\u001b[0m\u001b[1;36m0\u001b[0m\u001b[1;33m,\u001b[0m \u001b[0mnum5\u001b[0m\u001b[1;33m=\u001b[0m\u001b[1;36m0\u001b[0m\u001b[1;33m)\u001b[0m\u001b[1;33m:\u001b[0m\u001b[1;33m\u001b[0m\u001b[1;33m\u001b[0m\u001b[0m\n\u001b[0;32m      2\u001b[0m     \u001b[1;32mreturn\u001b[0m \u001b[0mnum1\u001b[0m \u001b[1;33m+\u001b[0m \u001b[0mnum2\u001b[0m \u001b[1;33m+\u001b[0m \u001b[0mnum3\u001b[0m \u001b[1;33m+\u001b[0m \u001b[0mnum4\u001b[0m \u001b[1;33m+\u001b[0m \u001b[0mnum5\u001b[0m\u001b[1;33m\u001b[0m\u001b[1;33m\u001b[0m\u001b[0m\n\u001b[1;32m----> 3\u001b[1;33m \u001b[0mprint\u001b[0m\u001b[1;33m(\u001b[0m\u001b[0madd\u001b[0m\u001b[1;33m(\u001b[0m\u001b[1;33m)\u001b[0m\u001b[1;33m)\u001b[0m\u001b[1;33m\u001b[0m\u001b[1;33m\u001b[0m\u001b[0m\n\u001b[0m\u001b[0;32m      4\u001b[0m \u001b[0mprint\u001b[0m\u001b[1;33m(\u001b[0m\u001b[0madd\u001b[0m\u001b[1;33m(\u001b[0m\u001b[1;36m8\u001b[0m\u001b[1;33m)\u001b[0m\u001b[1;33m)\u001b[0m\u001b[1;33m\u001b[0m\u001b[1;33m\u001b[0m\u001b[0m\n\u001b[0;32m      5\u001b[0m \u001b[0mprint\u001b[0m\u001b[1;33m(\u001b[0m\u001b[0madd\u001b[0m\u001b[1;33m(\u001b[0m\u001b[1;36m1\u001b[0m\u001b[1;33m,\u001b[0m\u001b[1;36m8\u001b[0m\u001b[1;33m)\u001b[0m\u001b[1;33m)\u001b[0m\u001b[1;33m\u001b[0m\u001b[1;33m\u001b[0m\u001b[0m\n",
      "\u001b[1;31mTypeError\u001b[0m: add() missing 1 required positional argument: 'num1'"
     ]
    }
   ],
   "source": [
    "def add(num1,num2=1,num3=0, num4=0, num5=0):\n",
    "    return num1 + num2 + num3 + num4 + num5\n",
    "print(add())\n",
    "print(add(8))\n",
    "print(add(1,8))\n",
    "print(add(2,88))\n",
    "print(add(1,8,3))\n",
    "print(add(1,8,3,9))\n",
    "print(add(1,8,3,22,90))"
   ]
  },
  {
   "cell_type": "code",
   "execution_count": 14,
   "metadata": {},
   "outputs": [
    {
     "ename": "TypeError",
     "evalue": "add() missing 1 required positional argument: 'num3'",
     "output_type": "error",
     "traceback": [
      "\u001b[1;31m---------------------------------------------------------------------------\u001b[0m",
      "\u001b[1;31mTypeError\u001b[0m                                 Traceback (most recent call last)",
      "\u001b[1;32m<ipython-input-14-d452c77ad37b>\u001b[0m in \u001b[0;36m<module>\u001b[1;34m\u001b[0m\n\u001b[0;32m      3\u001b[0m \u001b[1;31m#print(add())\u001b[0m\u001b[1;33m\u001b[0m\u001b[1;33m\u001b[0m\u001b[1;33m\u001b[0m\u001b[0m\n\u001b[0;32m      4\u001b[0m \u001b[1;31m#print(add(8))\u001b[0m\u001b[1;33m\u001b[0m\u001b[1;33m\u001b[0m\u001b[1;33m\u001b[0m\u001b[0m\n\u001b[1;32m----> 5\u001b[1;33m \u001b[0mprint\u001b[0m\u001b[1;33m(\u001b[0m\u001b[0madd\u001b[0m\u001b[1;33m(\u001b[0m\u001b[1;36m1\u001b[0m\u001b[1;33m,\u001b[0m\u001b[1;36m8\u001b[0m\u001b[1;33m)\u001b[0m\u001b[1;33m)\u001b[0m\u001b[1;33m\u001b[0m\u001b[1;33m\u001b[0m\u001b[0m\n\u001b[0m\u001b[0;32m      6\u001b[0m \u001b[0mprint\u001b[0m\u001b[1;33m(\u001b[0m\u001b[0madd\u001b[0m\u001b[1;33m(\u001b[0m\u001b[1;36m2\u001b[0m\u001b[1;33m,\u001b[0m\u001b[1;36m88\u001b[0m\u001b[1;33m)\u001b[0m\u001b[1;33m)\u001b[0m\u001b[1;33m\u001b[0m\u001b[1;33m\u001b[0m\u001b[0m\n\u001b[0;32m      7\u001b[0m \u001b[0mprint\u001b[0m\u001b[1;33m(\u001b[0m\u001b[0madd\u001b[0m\u001b[1;33m(\u001b[0m\u001b[1;36m1\u001b[0m\u001b[1;33m,\u001b[0m\u001b[1;36m8\u001b[0m\u001b[1;33m,\u001b[0m\u001b[1;36m3\u001b[0m\u001b[1;33m)\u001b[0m\u001b[1;33m)\u001b[0m\u001b[1;33m\u001b[0m\u001b[1;33m\u001b[0m\u001b[0m\n",
      "\u001b[1;31mTypeError\u001b[0m: add() missing 1 required positional argument: 'num3'"
     ]
    }
   ],
   "source": [
    "def add(num1,num2,num3, num4=0, num5=0):\n",
    "    return num1 + num2 + num3 + num4 + num5\n",
    "#print(add())\n",
    "#print(add(8))\n",
    "print(add(1,8))\n",
    "print(add(2,88))\n",
    "print(add(1,8,3))\n",
    "print(add(1,8,3,9))\n",
    "print(add(1,8,3,22,90))"
   ]
  },
  {
   "cell_type": "code",
   "execution_count": 15,
   "metadata": {},
   "outputs": [
    {
     "name": "stdout",
     "output_type": "stream",
     "text": [
      "12\n",
      "21\n",
      "124\n"
     ]
    }
   ],
   "source": [
    "def add(num1,num2,num3, num4=0, num5=0):\n",
    "    return num1 + num2 + num3 + num4 + num5\n",
    "#print(add())\n",
    "#print(add(8))\n",
    "#print(add(1,8))\n",
    "#print(add(2,88))\n",
    "print(add(1,8,3))\n",
    "print(add(1,8,3,9))\n",
    "print(add(1,8,3,22,90))"
   ]
  },
  {
   "cell_type": "code",
   "execution_count": 16,
   "metadata": {},
   "outputs": [
    {
     "name": "stdout",
     "output_type": "stream",
     "text": [
      "12\n"
     ]
    },
    {
     "ename": "TypeError",
     "evalue": "add() missing 1 required positional argument: 'num3'",
     "output_type": "error",
     "traceback": [
      "\u001b[1;31m---------------------------------------------------------------------------\u001b[0m",
      "\u001b[1;31mTypeError\u001b[0m                                 Traceback (most recent call last)",
      "\u001b[1;32m<ipython-input-16-70dd2cfdd018>\u001b[0m in \u001b[0;36m<module>\u001b[1;34m\u001b[0m\n\u001b[0;32m      5\u001b[0m \u001b[1;31m#print(add(2,88))\u001b[0m\u001b[1;33m\u001b[0m\u001b[1;33m\u001b[0m\u001b[1;33m\u001b[0m\u001b[0m\n\u001b[0;32m      6\u001b[0m \u001b[0mprint\u001b[0m\u001b[1;33m(\u001b[0m\u001b[0madd\u001b[0m\u001b[1;33m(\u001b[0m\u001b[1;36m1\u001b[0m\u001b[1;33m,\u001b[0m\u001b[1;36m8\u001b[0m\u001b[1;33m,\u001b[0m\u001b[1;36m3\u001b[0m\u001b[1;33m)\u001b[0m\u001b[1;33m)\u001b[0m\u001b[1;33m\u001b[0m\u001b[1;33m\u001b[0m\u001b[0m\n\u001b[1;32m----> 7\u001b[1;33m \u001b[0mprint\u001b[0m\u001b[1;33m(\u001b[0m\u001b[0madd\u001b[0m\u001b[1;33m(\u001b[0m\u001b[1;36m1\u001b[0m\u001b[1;33m,\u001b[0m\u001b[1;36m8\u001b[0m\u001b[1;33m)\u001b[0m\u001b[1;33m)\u001b[0m\u001b[1;33m\u001b[0m\u001b[1;33m\u001b[0m\u001b[0m\n\u001b[0m\u001b[0;32m      8\u001b[0m \u001b[0mprint\u001b[0m\u001b[1;33m(\u001b[0m\u001b[0madd\u001b[0m\u001b[1;33m(\u001b[0m\u001b[1;36m1\u001b[0m\u001b[1;33m,\u001b[0m\u001b[1;36m8\u001b[0m\u001b[1;33m,\u001b[0m\u001b[1;36m3\u001b[0m\u001b[1;33m,\u001b[0m\u001b[1;36m9\u001b[0m\u001b[1;33m)\u001b[0m\u001b[1;33m)\u001b[0m\u001b[1;33m\u001b[0m\u001b[1;33m\u001b[0m\u001b[0m\n\u001b[0;32m      9\u001b[0m \u001b[0mprint\u001b[0m\u001b[1;33m(\u001b[0m\u001b[0madd\u001b[0m\u001b[1;33m(\u001b[0m\u001b[1;36m1\u001b[0m\u001b[1;33m,\u001b[0m\u001b[1;36m8\u001b[0m\u001b[1;33m,\u001b[0m\u001b[1;36m3\u001b[0m\u001b[1;33m,\u001b[0m\u001b[1;36m22\u001b[0m\u001b[1;33m,\u001b[0m\u001b[1;36m90\u001b[0m\u001b[1;33m)\u001b[0m\u001b[1;33m)\u001b[0m\u001b[1;33m\u001b[0m\u001b[1;33m\u001b[0m\u001b[0m\n",
      "\u001b[1;31mTypeError\u001b[0m: add() missing 1 required positional argument: 'num3'"
     ]
    }
   ],
   "source": [
    "def add(num1,num2,num3, num4=0, num5=0):\n",
    "    return num1 + num2 + num3 + num4 + num5\n",
    "#print(add())\n",
    "#print(add(8))\n",
    "#print(add(2,88))\n",
    "print(add(1,8,3))\n",
    "print(add(1,8))\n",
    "print(add(1,8,3,9))\n",
    "print(add(1,8,3,22,90))"
   ]
  },
  {
   "cell_type": "code",
   "execution_count": 22,
   "metadata": {},
   "outputs": [
    {
     "name": "stdout",
     "output_type": "stream",
     "text": [
      "1 2 3 (4, 5, 6, 7, 8, 9, 10, 11, 12)\n"
     ]
    },
    {
     "data": {
      "text/plain": [
       "75"
      ]
     },
     "execution_count": 22,
     "metadata": {},
     "output_type": "execute_result"
    }
   ],
   "source": [
    "def add(num1,num2, num3, *x):\n",
    "    print(num1, num2, num3, x)\n",
    "    result = num1 + num2 \n",
    "   \n",
    "    for num in x:\n",
    "        result += num\n",
    "    \n",
    "    return result\n",
    "    \n",
    "add(1,2,3,4,5,6,7,8,9,10,11,12)    "
   ]
  },
  {
   "cell_type": "code",
   "execution_count": 23,
   "metadata": {},
   "outputs": [
    {
     "name": "stdout",
     "output_type": "stream",
     "text": [
      "1 2 3 4 (5, 6, 7, 8, 9, 10, 11, 12)\n"
     ]
    },
    {
     "data": {
      "text/plain": [
       "71"
      ]
     },
     "execution_count": 23,
     "metadata": {},
     "output_type": "execute_result"
    }
   ],
   "source": [
    "def add(num1,num2, num3, num4, *x):\n",
    "    print(num1, num2, num3, num4, x)\n",
    "    result = num1 + num2 \n",
    "   \n",
    "    for num in x:\n",
    "        result += num\n",
    "    \n",
    "    return result\n",
    "    \n",
    "add(1,2,3,4,5,6,7,8,9,10,11,12)    "
   ]
  },
  {
   "cell_type": "code",
   "execution_count": 24,
   "metadata": {},
   "outputs": [
    {
     "name": "stdout",
     "output_type": "stream",
     "text": [
      "1 2 3 4 (5, 6, 7, 8, 9, 10, 11, 12)\n"
     ]
    },
    {
     "data": {
      "text/plain": [
       "78"
      ]
     },
     "execution_count": 24,
     "metadata": {},
     "output_type": "execute_result"
    }
   ],
   "source": [
    "def add(num1,num2, num3, num4, *x):\n",
    "    print(num1, num2, num3, num4, x)\n",
    "    result = num1 + num2 + num3 + num4\n",
    "   \n",
    "    for num in x:\n",
    "        result += num\n",
    "    \n",
    "    return result\n",
    "    \n",
    "add(1,2,3,4,5,6,7,8,9,10,11,12)    "
   ]
  },
  {
   "cell_type": "markdown",
   "metadata": {},
   "source": [
    "# recursive function"
   ]
  },
  {
   "cell_type": "code",
   "execution_count": 26,
   "metadata": {},
   "outputs": [],
   "source": [
    "def abc(n): \n",
    "    if n==1:\n",
    "        return 1\n",
    "    return n ** abc(n-1)\n",
    "        \n",
    "    abc(n)"
   ]
  },
  {
   "cell_type": "code",
   "execution_count": 27,
   "metadata": {},
   "outputs": [
    {
     "data": {
      "text/plain": [
       "262144"
      ]
     },
     "execution_count": 27,
     "metadata": {},
     "output_type": "execute_result"
    }
   ],
   "source": [
    "abc(4)"
   ]
  },
  {
   "cell_type": "code",
   "execution_count": 28,
   "metadata": {},
   "outputs": [
    {
     "data": {
      "text/plain": [
       "9"
      ]
     },
     "execution_count": 28,
     "metadata": {},
     "output_type": "execute_result"
    }
   ],
   "source": [
    "abc(3)"
   ]
  },
  {
   "cell_type": "code",
   "execution_count": 31,
   "metadata": {},
   "outputs": [
    {
     "data": {
      "text/plain": [
       "40320"
      ]
     },
     "execution_count": 31,
     "metadata": {},
     "output_type": "execute_result"
    }
   ],
   "source": [
    "def abc(n):\n",
    "    if n==1:\n",
    "        return 1\n",
    "    return n * abc(n-1)\n",
    "    \n",
    "    \n",
    "abc(8)  \n",
    "\n",
    "#4x3x3x1 = 24"
   ]
  },
  {
   "cell_type": "markdown",
   "metadata": {},
   "source": [
    "# lambda function"
   ]
  },
  {
   "cell_type": "code",
   "execution_count": 32,
   "metadata": {},
   "outputs": [
    {
     "data": {
      "text/plain": [
       "15"
      ]
     },
     "execution_count": 32,
     "metadata": {},
     "output_type": "execute_result"
    }
   ],
   "source": [
    "xyz = lambda a,b,c,d: a+b+c+d\n",
    "xyz(6,2,3,4)"
   ]
  },
  {
   "cell_type": "code",
   "execution_count": 33,
   "metadata": {},
   "outputs": [
    {
     "data": {
      "text/plain": [
       "13"
      ]
     },
     "execution_count": 33,
     "metadata": {},
     "output_type": "execute_result"
    }
   ],
   "source": [
    "def xyz(a,b):\n",
    "    return a + b\n",
    "\n",
    "xyz(5,8)"
   ]
  },
  {
   "cell_type": "code",
   "execution_count": 34,
   "metadata": {},
   "outputs": [
    {
     "data": {
      "text/plain": [
       "13"
      ]
     },
     "execution_count": 34,
     "metadata": {},
     "output_type": "execute_result"
    }
   ],
   "source": [
    "def xyz(a,b): return a + b\n",
    "\n",
    "xyz(5,8)"
   ]
  },
  {
   "cell_type": "code",
   "execution_count": 35,
   "metadata": {},
   "outputs": [
    {
     "data": {
      "text/plain": [
       "13"
      ]
     },
     "execution_count": 35,
     "metadata": {},
     "output_type": "execute_result"
    }
   ],
   "source": [
    "xyz = lambda a,b: a + b\n",
    "\n",
    "xyz(5,8)"
   ]
  },
  {
   "cell_type": "markdown",
   "metadata": {},
   "source": [
    "# postional arguments"
   ]
  },
  {
   "cell_type": "code",
   "execution_count": 5,
   "metadata": {},
   "outputs": [
    {
     "name": "stdout",
     "output_type": "stream",
     "text": [
      "num1 11 + num2 20 + num3 0 + num4 0  + num5 10 = 41\n"
     ]
    },
    {
     "data": {
      "text/plain": [
       "41"
      ]
     },
     "execution_count": 5,
     "metadata": {},
     "output_type": "execute_result"
    }
   ],
   "source": [
    "def add(num1,num2,num3=0, num4=0, num5=0):\n",
    "    print(f\"num1 {num1} + num2 {num2} + num3 {num3} + num4 {num4}  + num5 {num5} = {num1+num2+num3+num4+num5}\")\n",
    "    return num1 + num2 + num3 + num4 + num5\n",
    "\n",
    "add(num1=11, num2=20, num5=10) \n",
    "    #num3=1, num4=7, num5=5)"
   ]
  },
  {
   "cell_type": "markdown",
   "metadata": {},
   "source": [
    "# Required Arguments"
   ]
  },
  {
   "cell_type": "code",
   "execution_count": 6,
   "metadata": {},
   "outputs": [
    {
     "name": "stdout",
     "output_type": "stream",
     "text": [
      "                                     \n",
      "    **** INDUS UNIVERSITY ****\n",
      "    Student's ID.: 1\n",
      "    Student's Name: Ali\n",
      "    Student's Father's Name: Hamza\n",
      "    Course Name:  A.I\n",
      "    Course Timings: 9 to 12\n",
      "    \n",
      "                                     \n",
      "    **** INDUS UNIVERSITY ****\n",
      "    Student's ID.: 2\n",
      "    Student's Name: Kashif\n",
      "    Student's Father's Name: Kamran\n",
      "    Course Name:  Cloud Computing\n",
      "    Course Timings: 3:30 to 6:30\n",
      "    \n"
     ]
    }
   ],
   "source": [
    "def id_card(sid, sname,sfname, scourse, stiming): # function declaration\n",
    "    text = \"\"\"                                     \n",
    "    **** INDUS UNIVERSITY ****\n",
    "    Student's ID.: {}\n",
    "    Student's Name: {}\n",
    "    Student's Father's Name: {}\n",
    "    Course Name:  {}\n",
    "    Course Timings: {}\n",
    "    \"\"\".format(sid, sname, sfname, scourse, stiming)\n",
    "    print(text)\n",
    "    \n",
    "id_card(1,\"Ali\",'Hamza','A.I','9 to 12')    \n",
    "id_card(2,\"Kashif\",\"Kamran\",\"Cloud Computing\", \"3:30 to 6:30\") \n",
    "\n",
    "#id_card = input(Enter Student Information: "
   ]
  },
  {
   "cell_type": "code",
   "execution_count": 20,
   "metadata": {},
   "outputs": [
    {
     "name": "stdout",
     "output_type": "stream",
     "text": [
      "                                     \n",
      "    **** INDUS UNIVERSITY ****\n",
      "    \n",
      "    Student's ID.: 1\n",
      "    Student's Name: Ali\n",
      "    Student's Father's Name: Hamza\n",
      "    Course Name:  A.I\n",
      "    Course Timings: 9 to 12\n",
      "    \n",
      "                                     \n",
      "    **** INDUS UNIVERSITY ****\n",
      "    \n",
      "    Student's ID.: 2\n",
      "    Student's Name: Kashif\n",
      "    Student's Father's Name: Kamran\n",
      "    Course Name:  Cloud Computing\n",
      "    Course Timings: 3:30 to 6:30\n",
      "    \n"
     ]
    }
   ],
   "source": [
    "def id_card(sid, sname, sfname, scourse, stiming): # function declaration\n",
    "    #input(id_card) \n",
    "    text = \"\"\"                                     \n",
    "    **** INDUS UNIVERSITY ****\n",
    "    \n",
    "    Student's ID.: {}\n",
    "    Student's Name: {}\n",
    "    Student's Father's Name: {}\n",
    "    Course Name:  {}\n",
    "    Course Timings: {}\n",
    "    \"\"\".format(sid, sname, sfname, scourse, stiming)\n",
    "    print(text)\n",
    "    \n",
    "id_card(1,\"Ali\",'Hamza','A.I','9 to 12')    \n",
    "id_card(2,\"Kashif\",\"Kamran\",\"Cloud Computing\", \"3:30 to 6:30\")"
   ]
  },
  {
   "cell_type": "code",
   "execution_count": 21,
   "metadata": {},
   "outputs": [
    {
     "name": "stdout",
     "output_type": "stream",
     "text": [
      "                                     \n",
      "    **** INDUS UNIVERSITY ****\n",
      "    \n",
      "    Student's ID.: 1\n",
      "    Student's Name: Qasim\n",
      "    Student's Father's Name: Aslam\n",
      "    Course Name:  A.I\n",
      "    Course Timings: 9 to 12\n",
      "    \n",
      "                                     \n",
      "    **** INDUS UNIVERSITY ****\n",
      "    \n",
      "    Student's ID.: 2\n",
      "    Student's Name: Hamza\n",
      "    Student's Father's Name: Khalid\n",
      "    Course Name:  Cloud\n",
      "    Course Timings: 12:15 to 3:15\n",
      "    \n",
      "                                     \n",
      "    **** INDUS UNIVERSITY ****\n",
      "    \n",
      "    Student's ID.: 3\n",
      "    Student's Name: Rauf\n",
      "    Student's Father's Name: Hussain\n",
      "    Course Name:  Quantum Computing\n",
      "    Course Timings: 12AM\n",
      "    \n"
     ]
    }
   ],
   "source": [
    "data =[[1,\"Qasim\",\"Aslam\",\"A.I\",\"9 to 12\"],\n",
    "      [2,\"Hamza\",\"Khalid\",\"Cloud\",\"12:15 to 3:15\"],\n",
    "      [3,\"Rauf\",\"Hussain\",\"Quantum Computing\",\"12AM\"]]\n",
    "\n",
    "for v in data:\n",
    "    id_card(*v)"
   ]
  },
  {
   "cell_type": "markdown",
   "metadata": {},
   "source": [
    "# Optional Arguments"
   ]
  },
  {
   "cell_type": "code",
   "execution_count": 22,
   "metadata": {},
   "outputs": [
    {
     "name": "stdout",
     "output_type": "stream",
     "text": [
      "5 0 0\n",
      "5\n"
     ]
    }
   ],
   "source": [
    "def abc(x, y=0, z=0): #1 Required, two optional\n",
    "    print(x,y,z)\n",
    "    print(x+y+z)\n",
    "    \n",
    "abc(5)  "
   ]
  },
  {
   "cell_type": "code",
   "execution_count": 26,
   "metadata": {},
   "outputs": [
    {
     "name": "stdout",
     "output_type": "stream",
     "text": [
      "5 10 2\n",
      "17\n",
      "100\n"
     ]
    }
   ],
   "source": [
    "def abc(x, y=0, z=0): #1 Required, two optional\n",
    "    print(x,y,z)\n",
    "    print(x+y+z)\n",
    "    print(x*y*z)\n",
    "\n",
    "abc(5,10,2)  "
   ]
  },
  {
   "cell_type": "markdown",
   "metadata": {},
   "source": [
    "# Non Return Functions"
   ]
  },
  {
   "cell_type": "code",
   "execution_count": 27,
   "metadata": {},
   "outputs": [
    {
     "name": "stdout",
     "output_type": "stream",
     "text": [
      "pakistan\n",
      "None\n"
     ]
    }
   ],
   "source": [
    "abc = print(\"pakistan\")\n",
    "print(abc)"
   ]
  },
  {
   "cell_type": "code",
   "execution_count": 29,
   "metadata": {},
   "outputs": [
    {
     "name": "stdout",
     "output_type": "stream",
     "text": [
      "5 0 0\n",
      "5\n",
      "5 7 9\n",
      "21\n",
      "None\n"
     ]
    }
   ],
   "source": [
    "def abc(x, y=0, z=0): #1 Required, two optional\n",
    "    print(x,y,z)\n",
    "    print(x+y+z)\n",
    "    \n",
    "abc(5)  \n",
    "\n",
    "x = abc(5,7,9)\n",
    "print(x)"
   ]
  },
  {
   "cell_type": "markdown",
   "metadata": {},
   "source": [
    "# Return Functions"
   ]
  },
  {
   "cell_type": "code",
   "execution_count": 32,
   "metadata": {},
   "outputs": [
    {
     "name": "stdout",
     "output_type": "stream",
     "text": [
      "\n",
      "    \n",
      "    **** INDUS UNIVERSITY **** \n",
      "    \n",
      "    Student's ID: 1\n",
      "    Student's Name: Tabish\n",
      "    Student's Father's Name: Aslam\n",
      "    Course Name:  AI & Robotics\n",
      "    Course Timings: 2 p.m. - 5 p.m.\n",
      "    \n"
     ]
    }
   ],
   "source": [
    "def id_card(sid, sname, fname, course, timing):\n",
    "    text = \"\"\"\n",
    "    \n",
    "    **** INDUS UNIVERSITY **** \n",
    "    \n",
    "    Student's ID: {}\n",
    "    Student's Name: {}\n",
    "    Student's Father's Name: {}\n",
    "    Course Name:  {}\n",
    "    Course Timings: {}\n",
    "    \"\"\".format(sid,sname,fname,course,timing)\n",
    "    return text\n",
    "    \n",
    "\n",
    "print(id_card(1,\"Tabish\",\"Aslam\",\"AI & Robotics\",\"2 p.m. - 5 p.m.\"))"
   ]
  },
  {
   "cell_type": "code",
   "execution_count": 33,
   "metadata": {},
   "outputs": [
    {
     "name": "stdout",
     "output_type": "stream",
     "text": [
      "\n",
      "    **** INDUS UNVERSITY ****\n",
      "    \n",
      "    id: 1\n",
      "    Name: A\n",
      "    father's Name: B\n",
      "    course:  C\n",
      "    timing: D\n",
      "    \n"
     ]
    }
   ],
   "source": [
    "def id_card(sid, sname,fname,course, timing):\n",
    "    text = \"\"\"\n",
    "    **** INDUS UNVERSITY ****\n",
    "    \n",
    "    id: {}\n",
    "    Name: {}\n",
    "    father's Name: {}\n",
    "    course:  {}\n",
    "    timing: {}\n",
    "    \"\"\".format(sid,sname,fname,course,timing)\n",
    "    return text # exit function from first return statment\n",
    "    return \"Qasim\"\n",
    "    return \"Ali\"\n",
    "    \n",
    "\n",
    "print(id_card(1,\"A\",\"B\",\"C\",\"D\"))"
   ]
  },
  {
   "cell_type": "code",
   "execution_count": 34,
   "metadata": {},
   "outputs": [
    {
     "name": "stdout",
     "output_type": "stream",
     "text": [
      "(\"\\n    PIAIC Islamabad\\n    id: 1\\n    Name: A\\n    father's Name: B\\n    course:  C\\n    timing: D\\n    \", 'Qasim', 'Ali')\n",
      "\n",
      "\n",
      "    PIAIC Islamabad\n",
      "    id: 1\n",
      "    Name: A\n",
      "    father's Name: B\n",
      "    course:  C\n",
      "    timing: D\n",
      "     Qasim Ali\n"
     ]
    }
   ],
   "source": [
    "def id_card(sid, sname,fname,course, timing):\n",
    "    text = \"\"\"\n",
    "    PIAIC Islamabad\n",
    "    id: {}\n",
    "    Name: {}\n",
    "    father's Name: {}\n",
    "    course:  {}\n",
    "    timing: {}\n",
    "    \"\"\".format(sid,sname,fname,course,timing)\n",
    "    return text, \"Qasim\", \"Ali\" # return in tuple form\n",
    "    \n",
    "\n",
    "print(id_card(1,\"A\",\"B\",\"C\",\"D\"))\n",
    "print()\n",
    "print(*id_card(1,\"A\",\"B\",\"C\",\"D\"))"
   ]
  },
  {
   "cell_type": "markdown",
   "metadata": {},
   "source": [
    "# KeyWord Arguments "
   ]
  },
  {
   "cell_type": "code",
   "execution_count": 35,
   "metadata": {},
   "outputs": [
    {
     "name": "stdout",
     "output_type": "stream",
     "text": [
      "\n",
      "    PIAIC Islamabad\n",
      "    id: Qasim\n",
      "    Name: Aslam\n",
      "    father's Name: 5007\n",
      "    course:  A.I\n",
      "    timing: 9 to 9\n",
      "    \n"
     ]
    }
   ],
   "source": [
    "def id_card(sid, sname,fname,course, timing):\n",
    "    text = \"\"\"\n",
    "    PIAIC Islamabad\n",
    "    id: {}\n",
    "    Name: {}\n",
    "    father's Name: {}\n",
    "    course:  {}\n",
    "    timing: {}\n",
    "    \"\"\".format(sid,sname,fname,course,timing)\n",
    "    return text\n",
    "\n",
    "print(id_card(\"Qasim\",\"Aslam\",5007,\"A.I\",\"9 to 9\"))"
   ]
  },
  {
   "cell_type": "code",
   "execution_count": 36,
   "metadata": {},
   "outputs": [
    {
     "name": "stdout",
     "output_type": "stream",
     "text": [
      "\n",
      "    PIAIC Islamabad\n",
      "    id: 1\n",
      "    Name: Qasim\n",
      "    father's Name: Aslam\n",
      "    course:  A.i\n",
      "    timing: ABC\n",
      "    \n"
     ]
    }
   ],
   "source": [
    "#             p   p       k      w    k      w       k      w\n",
    "print(id_card(1,\"Qasim\",course=\"A.i\",fname=\"Aslam\",timing=\"ABC\"))\n",
    "# 2 positional\n",
    "# 3 Keyword Arguments"
   ]
  },
  {
   "cell_type": "markdown",
   "metadata": {},
   "source": [
    "# Argument with List"
   ]
  },
  {
   "cell_type": "code",
   "execution_count": 38,
   "metadata": {},
   "outputs": [
    {
     "name": "stdout",
     "output_type": "stream",
     "text": [
      "\n",
      "    PIAIC Islamabad\n",
      "    id: 1\n",
      "    Name: Qasim\n",
      "    father's Name: Aslam\n",
      "    course:  A.I\n",
      "    timing: 9 to 9\n",
      "    \n"
     ]
    }
   ],
   "source": [
    "def id_card(sid, sname,fname,course, timing):\n",
    "    text = \"\"\"\n",
    "    PIAIC Islamabad\n",
    "    id: {}\n",
    "    Name: {}\n",
    "    father's Name: {}\n",
    "    course:  {}\n",
    "    timing: {}\n",
    "    \"\"\".format(sid,sname,fname,course,timing)\n",
    "    return text\n",
    "\n",
    "\n",
    "\n",
    "l1 = [1,\"Qasim\",\"Aslam\",\"A.I\",\"9 to 9\"]\n",
    "\n",
    "\n",
    "print(id_card(l1[0], l1[1],l1[2], l1[3], l1[4]))"
   ]
  },
  {
   "cell_type": "code",
   "execution_count": 39,
   "metadata": {},
   "outputs": [
    {
     "name": "stdout",
     "output_type": "stream",
     "text": [
      "\n",
      "    PIAIC Islamabad\n",
      "    id: 1\n",
      "    Name: Qasim\n",
      "    father's Name: Aslam\n",
      "    course:  A.I\n",
      "    timing: 9 to 9\n",
      "    \n",
      "1 Qasim Aslam A.I 9 to 9\n"
     ]
    }
   ],
   "source": [
    "l1 = [1,\"Qasim\",\"Aslam\",\"A.I\",\"9 to 9\"]\n",
    "\n",
    "\n",
    "print(id_card(*l1))\n",
    "print(*l1)\n",
    "#print(l1[0], l1[1],l1[2], l1[3], l1[4])"
   ]
  },
  {
   "cell_type": "markdown",
   "metadata": {},
   "source": [
    "# Argument with Dictionary"
   ]
  },
  {
   "cell_type": "code",
   "execution_count": 40,
   "metadata": {},
   "outputs": [
    {
     "name": "stdout",
     "output_type": "stream",
     "text": [
      "\n",
      "    PIAIC Islamabad\n",
      "    id: 200\n",
      "    Name: M.Qasim\n",
      "    father's Name: Aslam\n",
      "    course:  A.I\n",
      "    timing: ABC\n",
      "    \n"
     ]
    }
   ],
   "source": [
    "def id_card(sid, sname,fname,course, timing):\n",
    "    text = \"\"\"\n",
    "    PIAIC Islamabad\n",
    "    id: {}\n",
    "    Name: {}\n",
    "    father's Name: {}\n",
    "    course:  {}\n",
    "    timing: {}\n",
    "    \"\"\".format(sid,sname,fname,course,timing)\n",
    "    return text\n",
    "\n",
    "\n",
    "d1 = {\n",
    "    'course':'A.I',\n",
    "    'sname':'M.Qasim',\n",
    "    'fname':'Aslam',\n",
    "    'sid': 200,\n",
    "    'timing': \"ABC\"\n",
    "}\n",
    "\n",
    "#print(id_card(sname=\"Qasim\",fname=\"Aslam\",sid=5007,course=\"A.I\",timing=\"9 to 9\"))\n",
    "print(id_card(**d1))"
   ]
  },
  {
   "cell_type": "markdown",
   "metadata": {},
   "source": [
    "# Generator Functions \n",
    "\n",
    "Python provides a generator to create your own iterator function. A generator is a special type of function which does not return a single value, instead, it returns an iterator object with a sequence of values. In a generator function, a yield statement is used rather than a return statement."
   ]
  },
  {
   "cell_type": "code",
   "execution_count": 41,
   "metadata": {},
   "outputs": [
    {
     "name": "stdout",
     "output_type": "stream",
     "text": [
      "<generator object abc at 0x0382A098>\n",
      "0\n",
      "1\n",
      "2\n",
      "3\n",
      "4\n",
      "5\n",
      "[6, 7, 8, 9, 10]\n"
     ]
    }
   ],
   "source": [
    "def abc():\n",
    "    for i in range(11):\n",
    "        yield i\n",
    "        \n",
    "a = abc()        \n",
    "print(a)\n",
    "print(next(a))\n",
    "print(next(a))\n",
    "print(next(a))\n",
    "print(next(a))\n",
    "print(next(a))\n",
    "print(next(a))\n",
    "\n",
    "print(list(a))"
   ]
  },
  {
   "cell_type": "code",
   "execution_count": null,
   "metadata": {},
   "outputs": [],
   "source": []
  }
 ],
 "metadata": {
  "kernelspec": {
   "display_name": "Python 3",
   "language": "python",
   "name": "python3"
  },
  "language_info": {
   "codemirror_mode": {
    "name": "ipython",
    "version": 3
   },
   "file_extension": ".py",
   "mimetype": "text/x-python",
   "name": "python",
   "nbconvert_exporter": "python",
   "pygments_lexer": "ipython3",
   "version": "3.8.3"
  }
 },
 "nbformat": 4,
 "nbformat_minor": 4
}
