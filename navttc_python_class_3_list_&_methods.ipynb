{
 "cells": [
  {
   "cell_type": "code",
   "execution_count": 1,
   "metadata": {},
   "outputs": [
    {
     "data": {
      "text/plain": [
       "['junaid', 'qasim', 'ali', 'salman', 'kashif']"
      ]
     },
     "execution_count": 1,
     "metadata": {},
     "output_type": "execute_result"
    }
   ],
   "source": [
    "name = ['junaid', 'qasim', 'ali', 'salman', 'kashif']\n",
    "name"
   ]
  },
  {
   "cell_type": "code",
   "execution_count": 2,
   "metadata": {},
   "outputs": [
    {
     "data": {
      "text/plain": [
       "list"
      ]
     },
     "execution_count": 2,
     "metadata": {},
     "output_type": "execute_result"
    }
   ],
   "source": [
    "type(name)"
   ]
  },
  {
   "cell_type": "code",
   "execution_count": 6,
   "metadata": {},
   "outputs": [
    {
     "name": "stdout",
     "output_type": "stream",
     "text": [
      "['junaid', 'qasim', 'ali', 'salman', 'kashif', 'owais']\n"
     ]
    }
   ],
   "source": [
    "name = ['junaid', 'qasim', 'ali', 'salman', 'kashif']\n",
    "name.append('owais')\n",
    "print(name)"
   ]
  },
  {
   "cell_type": "code",
   "execution_count": 7,
   "metadata": {},
   "outputs": [
    {
     "name": "stdout",
     "output_type": "stream",
     "text": [
      "['qasim', 'ali', 'salman', 'kashif', 'owais']\n"
     ]
    }
   ],
   "source": [
    "name.remove('junaid')\n",
    "print(name)"
   ]
  },
  {
   "cell_type": "code",
   "execution_count": 18,
   "metadata": {},
   "outputs": [
    {
     "name": "stdout",
     "output_type": "stream",
     "text": [
      "['junaid', 'qasim', 'salman', 'kashif']\n"
     ]
    }
   ],
   "source": [
    "name = ['junaid', 'qasim', 'ali', 'salman', 'kashif']\n",
    "del name[2]\n",
    "print(name)"
   ]
  },
  {
   "cell_type": "markdown",
   "metadata": {},
   "source": [
    "### .extend() method\n",
    "To append elements from another list to the current list, use the extend() method."
   ]
  },
  {
   "cell_type": "code",
   "execution_count": 20,
   "metadata": {},
   "outputs": [
    {
     "name": "stdout",
     "output_type": "stream",
     "text": [
      "['junaid', 'owais', 'qasim', 'adnan', 'kashif', 'farman', 'faran', 'shahzaib', 'faisal']\n"
     ]
    }
   ],
   "source": [
    "name1 = [\"junaid\", \"owais\", \"qasim\", \"adnan\"]\n",
    "name2 = [\"kashif\", \"farman\", \"faran\", \"shahzaib\", \"faisal\"]\n",
    "name1.extend(name2)\n",
    "print(name1)"
   ]
  },
  {
   "cell_type": "markdown",
   "metadata": {},
   "source": [
    "The extend() method does not have to append lists, you can add any iterable object (tuples, sets, dictionaries etc.) \n",
    "\n",
    "Add elements of a tuple to a list:"
   ]
  },
  {
   "cell_type": "code",
   "execution_count": 6,
   "metadata": {},
   "outputs": [
    {
     "name": "stdout",
     "output_type": "stream",
     "text": [
      "['apple', 'banana', 'cherry', 'kiwi', 'orange']\n"
     ]
    }
   ],
   "source": [
    "thislist = [\"apple\", \"banana\", \"cherry\"]\n",
    "thistuple = (\"kiwi\", \"orange\")\n",
    "\n",
    "thislist.extend(thistuple)\n",
    "\n",
    "print(thislist)"
   ]
  },
  {
   "cell_type": "code",
   "execution_count": 29,
   "metadata": {},
   "outputs": [
    {
     "name": "stdout",
     "output_type": "stream",
     "text": [
      "[]\n"
     ]
    }
   ],
   "source": [
    "name = ['junaid', 'qasim', 'ali', 'salman', 'kashif'] \n",
    "print(name[-1:0])"
   ]
  },
  {
   "cell_type": "code",
   "execution_count": 30,
   "metadata": {},
   "outputs": [
    {
     "name": "stdout",
     "output_type": "stream",
     "text": [
      "farman\n"
     ]
    }
   ],
   "source": [
    "name1 = [['junaid', 'owais', 'qasim', 'adnan'], \n",
    "['kashif', 'farman', 'faran', 'shahzaib', 'faisal'], \n",
    "['Mubashir', 'Saqib', 'Sami', 'Ibrahim', 'Ismail']]\n",
    "\n",
    "print(name1[1][1])"
   ]
  },
  {
   "cell_type": "code",
   "execution_count": 31,
   "metadata": {},
   "outputs": [
    {
     "name": "stdout",
     "output_type": "stream",
     "text": [
      "['Saqib', 'Sami', 'Ibrahim']\n"
     ]
    }
   ],
   "source": [
    "print(name1[2][1:4])"
   ]
  },
  {
   "cell_type": "code",
   "execution_count": 32,
   "metadata": {},
   "outputs": [
    {
     "name": "stdout",
     "output_type": "stream",
     "text": [
      "[['junaid', 'owais', 'qasim', 'adnan'], ['kashif', 'farman', 'faran', 'shahzaib', 'faisal'], ['Mubashir', 'Saqib', 'Sami', 'Ibrahim', 'Asif']]\n"
     ]
    }
   ],
   "source": [
    "name1[2][4] = 'Asif' \n",
    "print(name1)"
   ]
  },
  {
   "cell_type": "code",
   "execution_count": 36,
   "metadata": {},
   "outputs": [
    {
     "name": "stdout",
     "output_type": "stream",
     "text": [
      "man\n"
     ]
    }
   ],
   "source": [
    "name1 = [['junaid', 'owais', 'qasim', 'adnan'], \n",
    "['kashif', 'farman', 'faran', 'shahzaib', 'faisal'], \n",
    "['Mubashir', 'Saqib', 'Sami', 'Ibrahim', 'Ismail']]\n",
    "\n",
    "print(name1[1][1][-3:])"
   ]
  },
  {
   "cell_type": "code",
   "execution_count": 37,
   "metadata": {
    "scrolled": true
   },
   "outputs": [
    {
     "ename": "SyntaxError",
     "evalue": "invalid syntax (<ipython-input-37-8070febd6275>, line 1)",
     "output_type": "error",
     "traceback": [
      "\u001b[1;36m  File \u001b[1;32m\"<ipython-input-37-8070febd6275>\"\u001b[1;36m, line \u001b[1;32m1\u001b[0m\n\u001b[1;33m    name1.\u001b[0m\n\u001b[1;37m           ^\u001b[0m\n\u001b[1;31mSyntaxError\u001b[0m\u001b[1;31m:\u001b[0m invalid syntax\n"
     ]
    }
   ],
   "source": [
    "name1."
   ]
  },
  {
   "cell_type": "code",
   "execution_count": 40,
   "metadata": {},
   "outputs": [
    {
     "name": "stdout",
     "output_type": "stream",
     "text": [
      "my\t\tname\tis\t\n",
      "junaid\n"
     ]
    }
   ],
   "source": [
    "name= \"my\\t\\tname\\tis\\t\\njunaid\" \n",
    "print(name)"
   ]
  },
  {
   "cell_type": "code",
   "execution_count": 42,
   "metadata": {},
   "outputs": [
    {
     "name": "stdout",
     "output_type": "stream",
     "text": [
      "MY NAME IS JUNAID\n"
     ]
    }
   ],
   "source": [
    "name = \"my name is junaid\"\n",
    "print(name.upper())"
   ]
  },
  {
   "cell_type": "code",
   "execution_count": 43,
   "metadata": {},
   "outputs": [
    {
     "name": "stdout",
     "output_type": "stream",
     "text": [
      "My name is junaid\n"
     ]
    }
   ],
   "source": [
    "name = \"my name is junaid\"\n",
    "print(name.capitalize())"
   ]
  },
  {
   "cell_type": "code",
   "execution_count": 44,
   "metadata": {},
   "outputs": [
    {
     "name": "stdout",
     "output_type": "stream",
     "text": [
      "My Name Is Junaid\n"
     ]
    }
   ],
   "source": [
    "name = \"my name is junaid\"\n",
    "print(name.title())"
   ]
  },
  {
   "cell_type": "code",
   "execution_count": 1,
   "metadata": {},
   "outputs": [
    {
     "name": "stdout",
     "output_type": "stream",
     "text": [
      "['apple', 'blackcurrant', 'cherry']\n"
     ]
    }
   ],
   "source": [
    "thislist = [\"apple\", \"banana\", \"cherry\"]\n",
    "thislist[1] = \"blackcurrant\"\n",
    "\n",
    "print(thislist)"
   ]
  },
  {
   "cell_type": "code",
   "execution_count": 2,
   "metadata": {},
   "outputs": [
    {
     "name": "stdout",
     "output_type": "stream",
     "text": [
      "['islamabad', 'karachi', ('faisalabad', 'pakistan'), 'peshawar', 'karachi', 'islamabad', 'dadu', 3332564221, 5876]\n"
     ]
    }
   ],
   "source": [
    "newlist = ['islamabad', 'karachi', 'lahore', 'peshawar', 'karachi', 'islamabad', 'dadu', 3332564221, 5876]\n",
    "\n",
    "newlist[2] = 'faisalabad', 'pakistan'\n",
    "\n",
    "print(newlist)"
   ]
  },
  {
   "cell_type": "code",
   "execution_count": 3,
   "metadata": {},
   "outputs": [
    {
     "name": "stdout",
     "output_type": "stream",
     "text": [
      "['islamabad', 'karachi', 'faisalabad', 'peshawar', 'karachi', 'islamabad', 'dadu', 3332564221, 5876]\n"
     ]
    }
   ],
   "source": [
    "newlist[2] = 'faisalabad'\n",
    "\n",
    "print(newlist)"
   ]
  },
  {
   "cell_type": "markdown",
   "metadata": {},
   "source": [
    "### .insert() method\n",
    "To insert a list item at a specified index, use the insert() method.\n",
    "The insert() method inserts an item at the specified index:"
   ]
  },
  {
   "cell_type": "code",
   "execution_count": 4,
   "metadata": {},
   "outputs": [
    {
     "name": "stdout",
     "output_type": "stream",
     "text": [
      "['islamabad', 'karachi', 'kashmore', 'faisalabad', 'peshawar', 'karachi', 'islamabad', 'dadu', 3332564221, 5876]\n"
     ]
    }
   ],
   "source": [
    "newlist.insert(2, 'kashmore')\n",
    "\n",
    "print(newlist)"
   ]
  },
  {
   "cell_type": "markdown",
   "metadata": {},
   "source": [
    "### .append() method\n",
    "To add an item to the end of the list, use the append() method:"
   ]
  },
  {
   "cell_type": "code",
   "execution_count": 5,
   "metadata": {},
   "outputs": [
    {
     "name": "stdout",
     "output_type": "stream",
     "text": [
      "['islamabad', 'karachi', 'kashmore', 'faisalabad', 'peshawar', 'karachi', 'islamabad', 'dadu', 3332564221, 5876, 333]\n"
     ]
    }
   ],
   "source": [
    "newlist.append(333)\n",
    "print(newlist)"
   ]
  },
  {
   "cell_type": "code",
   "execution_count": 7,
   "metadata": {},
   "outputs": [
    {
     "name": "stdout",
     "output_type": "stream",
     "text": [
      "Yes, 'apple' is in the fruits list\n",
      "Yes, 'karachi' is in the list\n",
      "2\n"
     ]
    }
   ],
   "source": [
    "thislist = [\"apple\", \"banana\", \"cherry\"]\n",
    "if \"apple\" in thislist:\n",
    "  print(\"Yes, 'apple' is in the fruits list\")\n",
    "\n",
    "newlist = ['islamabad', 'karachi', 'lahore', 'peshawar', 'karachi', 'islamabad', 'dadu', 3332564221, 5876]\n",
    "\n",
    "if 'karachi' in newlist: \n",
    "\tprint(\"Yes, 'karachi' is in the list\")\n",
    "    \n",
    "print(newlist.count('karachi'))  "
   ]
  },
  {
   "cell_type": "code",
   "execution_count": 8,
   "metadata": {},
   "outputs": [
    {
     "name": "stdout",
     "output_type": "stream",
     "text": [
      "['apple', 'banana', 'cherry', 'kiwi', 'orange']\n",
      "{'city1': 'karachi', 'city2': 'lahore', 'city3': 'jhang'}\n",
      "['karachi', 'lahore', 'faisalabad', 'jhang', 'thatta', 'dadu']\n"
     ]
    }
   ],
   "source": [
    "thislist = [\"apple\", \"banana\", \"cherry\"]\n",
    "thistuple = (\"kiwi\", \"orange\")\n",
    "\n",
    "thislist.extend(thistuple)\n",
    "\n",
    "print(thislist) \n",
    "\n",
    "newlist = ['karachi', 'lahore', 'faisalabad', 'jhang', 'thatta', 'dadu']\n",
    "\n",
    "new_dict = {'city1': 'karachi', 'city2': 'lahore', 'city3': 'jhang'}\n",
    "\n",
    "print(new_dict)\n",
    "print(newlist)"
   ]
  },
  {
   "cell_type": "code",
   "execution_count": null,
   "metadata": {},
   "outputs": [],
   "source": []
  }
 ],
 "metadata": {
  "kernelspec": {
   "display_name": "Python 3 (ipykernel)",
   "language": "python",
   "name": "python3"
  },
  "language_info": {
   "codemirror_mode": {
    "name": "ipython",
    "version": 3
   },
   "file_extension": ".py",
   "mimetype": "text/x-python",
   "name": "python",
   "nbconvert_exporter": "python",
   "pygments_lexer": "ipython3",
   "version": "3.9.12"
  }
 },
 "nbformat": 4,
 "nbformat_minor": 4
}
